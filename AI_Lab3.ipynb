{
 "cells": [
  {
   "cell_type": "code",
   "execution_count": 1,
   "id": "c05b288d-dac9-4d46-89bc-9b7695ba6bf8",
   "metadata": {},
   "outputs": [
    {
     "name": "stdout",
     "output_type": "stream",
     "text": [
      "Lab3\n"
     ]
    }
   ],
   "source": [
    "print(\"Lab3\")"
   ]
  },
  {
   "cell_type": "code",
   "execution_count": 4,
   "id": "8c17dc06-0bf3-409f-a5f3-d91725382a8a",
   "metadata": {},
   "outputs": [
    {
     "name": "stdout",
     "output_type": "stream",
     "text": [
      "20\n",
      "[30, 40]\n",
      "[10, 20, 30]\n",
      "[20, 30]\n"
     ]
    }
   ],
   "source": [
    "###Iteration in list , tuple, set and dictionary\n",
    "list = [10,20,30,40]\n",
    "print(list[1])\n",
    "print(list[2:])\n",
    "print(list[:3])\n",
    "print(list[1:3])"
   ]
  },
  {
   "cell_type": "raw",
   "id": "c3bdaa5f-dc39-4f27-af5f-4743c6dcaf35",
   "metadata": {},
   "source": []
  },
  {
   "cell_type": "code",
   "execution_count": 7,
   "id": "6fba266f-7975-454b-aa11-00e410e3ad94",
   "metadata": {},
   "outputs": [
    {
     "name": "stdout",
     "output_type": "stream",
     "text": [
      "10 20 30 40 "
     ]
    }
   ],
   "source": [
    "for i in range(len(list)):\n",
    "    print(list[i],end=\" \")\n"
   ]
  },
  {
   "cell_type": "code",
   "execution_count": 6,
   "id": "16c4fd4c-5f32-43d9-a654-2e650743b636",
   "metadata": {},
   "outputs": [
    {
     "name": "stdout",
     "output_type": "stream",
     "text": [
      "10 20 30 40 "
     ]
    }
   ],
   "source": [
    "for item in list:\n",
    "    print(item,end=\" \")"
   ]
  },
  {
   "cell_type": "code",
   "execution_count": 12,
   "id": "3703b93e-5aa3-4e69-b7c2-bee3b2e84551",
   "metadata": {},
   "outputs": [
    {
     "name": "stdout",
     "output_type": "stream",
     "text": [
      "(2, 3, 4)\n",
      "4 4 4 4 4 \n",
      "1 2 3 4 5 "
     ]
    }
   ],
   "source": [
    "t=(1,2,3,4,5)\n",
    "print(t[1:4])\n",
    "\n",
    "for item in range(len(t)):\n",
    "    print(t[i],end=\" \")\n",
    "print()\n",
    "\n",
    "for item in t:\n",
    "    print(item,end=\" \")"
   ]
  },
  {
   "cell_type": "code",
   "execution_count": 18,
   "id": "07cb30b2-df0e-44e1-8650-edb8d7585a81",
   "metadata": {},
   "outputs": [
    {
     "name": "stdout",
     "output_type": "stream",
     "text": [
      "{40, 10, 50, 20, 30}\n",
      "True\n",
      "False\n",
      "40 10 50 20 30 "
     ]
    }
   ],
   "source": [
    "s={10,20,30,40}\n",
    "s.add(50)\n",
    "print(s)\n",
    "print(10 in s)\n",
    "print(5 in s)\n",
    "\n",
    "for item in s:\n",
    "    print(item,end=\" \")"
   ]
  },
  {
   "cell_type": "code",
   "execution_count": 25,
   "id": "92ac6e60-cd65-44cb-ad8b-07a7f3083125",
   "metadata": {},
   "outputs": [
    {
     "name": "stdout",
     "output_type": "stream",
     "text": [
      "{'A': 3, 'G': 5, 'C': 10, 'T': 30, 'N': 6}\n",
      "5\n",
      "A 3\n",
      "G 5\n",
      "C 10\n",
      "T 30\n",
      "N 6\n",
      "3 5 10 30 6 "
     ]
    }
   ],
   "source": [
    "d={\n",
    "    \"A\":3,\n",
    "    \"G\":5,\n",
    "    \"C\":10,\n",
    "    \"T\":20\n",
    "}\n",
    "d[\"T\"]=30\n",
    "d[\"N\"]=6\n",
    "print(d)\n",
    "print(len(d))\n",
    "for k,v in d.items():\n",
    "    print(k,v)\n",
    "for k in d.keys():\n",
    "        print(d[k],end=\" \")"
   ]
  },
  {
   "cell_type": "code",
   "execution_count": 27,
   "id": "36e30f32-53b5-41d0-9a4c-f8b994394b5d",
   "metadata": {},
   "outputs": [
    {
     "name": "stdout",
     "output_type": "stream",
     "text": [
      "19.75\n"
     ]
    }
   ],
   "source": [
    "#Function f(x)=x^2+5x+1\n",
    "\n",
    "def f(x):\n",
    "    return x*x+5*x+1\n",
    "\n",
    "result=f(2.5)\n",
    "print(result)"
   ]
  },
  {
   "cell_type": "code",
   "execution_count": 30,
   "id": "044827da-f41b-44b5-9faf-f28ae4b9e5c8",
   "metadata": {},
   "outputs": [
    {
     "name": "stdout",
     "output_type": "stream",
     "text": [
      "Welcome Mr. Richard\n"
     ]
    }
   ],
   "source": [
    "def greet(name):\n",
    "    return \"Welcome Mr. \"+name\n",
    "\n",
    "print(greet(\"Richard\"))    "
   ]
  },
  {
   "cell_type": "code",
   "execution_count": 32,
   "id": "0f72c87c-4b90-44f3-ac89-0971cbcaffe3",
   "metadata": {},
   "outputs": [
    {
     "name": "stdout",
     "output_type": "stream",
     "text": [
      "30 -10\n"
     ]
    }
   ],
   "source": [
    "def operation(a=1,b=1):\n",
    "    return a+b,a-b\n",
    "add,sub=operation(10,20)  \n",
    "print(add,sub)"
   ]
  },
  {
   "cell_type": "code",
   "execution_count": 59,
   "id": "16f65964-2110-4853-ba97-223b2e887e0c",
   "metadata": {},
   "outputs": [
    {
     "name": "stdout",
     "output_type": "stream",
     "text": [
      "1 1.5 2.0 2.5 3.0 3.5 4.0 4.5 5.0 5.5 [1, 1.5, 2.0, 2.5, 3.0, 3.5, 4.0, 4.5, 5.0, 5.5]\n"
     ]
    }
   ],
   "source": [
    "def step(start=0, stepsize=0.1,n=100):\n",
    "    s=[]\n",
    "    for i in range(n):\n",
    "        s.append(start)\n",
    "        print(start,end=\" \")\n",
    "        start=start+stepsize\n",
    "    return s\n",
    "        \n",
    "    \n",
    "    \n",
    "print(step(1,0.5,10))    "
   ]
  },
  {
   "cell_type": "code",
   "execution_count": 69,
   "id": "a135bf98-2bab-4fec-b69c-226cc573f592",
   "metadata": {},
   "outputs": [
    {
     "name": "stdout",
     "output_type": "stream",
     "text": [
      "[0, 0.2, 0.4, 0.6000000000000001, 0.8, 1.0]\n"
     ]
    }
   ],
   "source": [
    "def step(start=0, stepsize=0.2,n=6):\n",
    "    s=[]\n",
    "    for i in range(n):\n",
    "        s.append(start)\n",
    "        start=start+stepsize\n",
    "    return s   \n",
    "print(step(0,0.2,6))        "
   ]
  },
  {
   "cell_type": "code",
   "execution_count": 125,
   "id": "aa9ad0fe-ed17-4f70-ba1d-cce66fa4b323",
   "metadata": {},
   "outputs": [
    {
     "name": "stdout",
     "output_type": "stream",
     "text": [
      "[0, 0.2, 0.4, 0.6000000000000001, 0.8, 1]\n"
     ]
    }
   ],
   "source": [
    "def step(start=0,a=0, b=1, n=5):\n",
    "    s = []\n",
    "    a=(b-a)/5\n",
    "    for i in range(n):\n",
    "        s.append(start)\n",
    "        start = start + a\n",
    "    s.append(b) \n",
    "    return s\n",
    "\n",
    "result = step(0, 0, 1)\n",
    "print(result)\n"
   ]
  },
  {
   "cell_type": "code",
   "execution_count": 123,
   "id": "c8e23015-f08a-4636-aa3e-6098786a035c",
   "metadata": {},
   "outputs": [
    {
     "name": "stdout",
     "output_type": "stream",
     "text": [
      "[0, 0.2, 0.4, 0.6000000000000001, 0.8, 1]\n"
     ]
    }
   ],
   "source": [
    "def step(start=0, a=0, b=1, n=5, stepsize=0):\n",
    "    if stepsize == 0:\n",
    "        stepsize = (b - a) / n\n",
    "\n",
    "    s = []\n",
    "    for i in range(n):\n",
    "        s.append(start)\n",
    "        start = start + stepsize\n",
    "    \n",
    "    s.append(b)\n",
    "    return s\n",
    "\n",
    "# Example usage\n",
    "result = step(0, 0, 1)\n",
    "print(result)\n"
   ]
  },
  {
   "cell_type": "code",
   "execution_count": 129,
   "id": "00365284-18ef-4755-b00b-04303f9ca603",
   "metadata": {},
   "outputs": [
    {
     "name": "stdout",
     "output_type": "stream",
     "text": [
      "[[10, 20, 40], [20, 30, 40]]\n",
      "Row: 2\n",
      "Column: 3\n"
     ]
    }
   ],
   "source": [
    "graph=[\n",
    "    [10,20,40],\n",
    "    [20,30,40]\n",
    "]\n",
    "print(graph)\n",
    "print(\"Row:\",len(graph))\n",
    "print(\"Column:\",len(graph[0]))"
   ]
  },
  {
   "cell_type": "code",
   "execution_count": 136,
   "id": "2314dc1f-ca17-40db-8311-53dfb0fad0ff",
   "metadata": {},
   "outputs": [
    {
     "name": "stdout",
     "output_type": "stream",
     "text": [
      "10 20 40 \n",
      "20 30 40 \n"
     ]
    }
   ],
   "source": [
    "for i in range (len(graph)):\n",
    "    for j in range(len(graph[0])):\n",
    "        print(graph[i][j],end=\" \")\n",
    "    print()   "
   ]
  },
  {
   "cell_type": "code",
   "execution_count": 147,
   "id": "2bc52f0c-253d-4705-bba0-d31e4b99d5a7",
   "metadata": {},
   "outputs": [
    {
     "name": "stdout",
     "output_type": "stream",
     "text": [
      "[2, 2, 2, 2, 2]\n",
      "[2, 2, 2, 2, 2]\n",
      "[2, 2, 2, 2, 2]\n",
      "[2, 2, 2, 2, 2]\n",
      "[2, 2, 2, 2, 2]\n"
     ]
    }
   ],
   "source": [
    "n_column=5\n",
    "n_row=5\n",
    "col=[]\n",
    "for i in range(n_col):\n",
    "    col.append(2)\n",
    "g=[]\n",
    "for j in range(n_row):\n",
    "    g.append(col)\n",
    "for c in g:\n",
    "    print(c)\n",
    "    "
   ]
  },
  {
   "cell_type": "code",
   "execution_count": 154,
   "id": "19d332e6-5ba9-4af5-b913-8e55767c62c8",
   "metadata": {},
   "outputs": [
    {
     "name": "stdout",
     "output_type": "stream",
     "text": [
      "[0, 1, 0, 0]\n",
      "[0, 1, 0, 0]\n",
      "[0, 1, 0, 0]\n",
      "[0, 1, 0, 0]\n"
     ]
    }
   ],
   "source": [
    "def creatematrix(n):\n",
    "    row=[]\n",
    "    for i in range(n):\n",
    "        row.append(0)\n",
    "    graph=[]\n",
    "    for i in range(n):\n",
    "        graph.append(row)\n",
    "    return graph\n",
    "G = creatematrix (4)\n",
    "G[0][1]=1\n",
    "\n",
    "for r in G:\n",
    "    print(r)"
   ]
  },
  {
   "cell_type": "code",
   "execution_count": 161,
   "id": "7e1a24cd-a952-46ec-b7bc-97ffdd3f8a00",
   "metadata": {},
   "outputs": [
    {
     "name": "stdout",
     "output_type": "stream",
     "text": [
      "[0, 1, 1, 0, 0, 0]\n",
      "[0, 0, 0, 0, 0, 0]\n",
      "[0, 0, 0, 0, 0, 0]\n",
      "[0, 0, 0, 0, 0, 0]\n",
      "[0, 0, 0, 0, 0, 0]\n",
      "[0, 0, 0, 0, 0, 0]\n"
     ]
    }
   ],
   "source": [
    "def creatematrix(n):\n",
    "    g=[]\n",
    "    for i in range(n):\n",
    "        row=[]\n",
    "        for j in range(n):\n",
    "            row.append(0)\n",
    "        g.append(row)\n",
    "    return g\n",
    "        \n",
    "    return graph\n",
    "G = creatematrix (6)\n",
    "\n",
    "...\n",
    "0 1\n",
    "0 2\n",
    "1 2\n",
    "1 3\n",
    "2 3\n",
    "3 4\n",
    "4 0\n",
    "4 1\n",
    "4 5\n",
    "...\n",
    "G[0][1]=1\n",
    "G[0][2]=1\n",
    "\n",
    "for r in G:\n",
    "    print(r)"
   ]
  },
  {
   "cell_type": "code",
   "execution_count": 169,
   "id": "3f412ae7-7864-49b8-9bb1-b2569f78ae5e",
   "metadata": {},
   "outputs": [
    {
     "name": "stdout",
     "output_type": "stream",
     "text": [
      "[0, 1, 1, 0, 0, 0]\n",
      "[0, 0, 1, 1, 0, 0]\n",
      "[0, 0, 0, 1, 0, 0]\n",
      "[0, 0, 0, 0, 1, 0]\n",
      "[1, 1, 0, 0, 0, 1]\n",
      "[0, 0, 0, 0, 0, 0]\n"
     ]
    }
   ],
   "source": [
    "f=open(\"input.txt\",\"r\")\n",
    "edge=9\n",
    "for i in range(edge):\n",
    "    line= f.readline().split()\n",
    "    u=int(line[0])\n",
    "    v=int(line[1])\n",
    "    G[u][v]=1\n",
    "for r in G:\n",
    "    print(r)\n",
    "\n"
   ]
  },
  {
   "cell_type": "code",
   "execution_count": null,
   "id": "fd1b6f18-2712-4ddf-99f4-2c17c1a35bc2",
   "metadata": {},
   "outputs": [],
   "source": []
  }
 ],
 "metadata": {
  "kernelspec": {
   "display_name": "Python [conda env:base] *",
   "language": "python",
   "name": "conda-base-py"
  },
  "language_info": {
   "codemirror_mode": {
    "name": "ipython",
    "version": 3
   },
   "file_extension": ".py",
   "mimetype": "text/x-python",
   "name": "python",
   "nbconvert_exporter": "python",
   "pygments_lexer": "ipython3",
   "version": "3.13.5"
  }
 },
 "nbformat": 4,
 "nbformat_minor": 5
}
