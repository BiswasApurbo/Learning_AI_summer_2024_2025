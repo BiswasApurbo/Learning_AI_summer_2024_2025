{
 "cells": [
  {
   "cell_type": "code",
   "execution_count": 1,
   "id": "28752f7c-2c53-4394-9eb4-c1a6b597eec8",
   "metadata": {},
   "outputs": [
    {
     "name": "stdout",
     "output_type": "stream",
     "text": [
      "Hey\n"
     ]
    }
   ],
   "source": [
    "print(\"Hey\")"
   ]
  },
  {
   "cell_type": "code",
   "execution_count": 2,
   "id": "33352f2d-ffd1-4ee2-8114-ee812d4433c8",
   "metadata": {},
   "outputs": [
    {
     "name": "stdout",
     "output_type": "stream",
     "text": [
      "10\n"
     ]
    }
   ],
   "source": [
    "a=10\n",
    "print(a)"
   ]
  },
  {
   "cell_type": "code",
   "execution_count": 4,
   "id": "83c765c0-1d4a-43ca-a29c-758d10732a28",
   "metadata": {},
   "outputs": [
    {
     "name": "stdout",
     "output_type": "stream",
     "text": [
      "30\n",
      "<class 'int'>\n"
     ]
    }
   ],
   "source": [
    "a=10\n",
    "b=20\n",
    "print(a+b)\n",
    "print(type(a+b))\n"
   ]
  },
  {
   "cell_type": "code",
   "execution_count": 5,
   "id": "0c348538-77db-41c3-b9c9-98984e9cda1c",
   "metadata": {},
   "outputs": [
    {
     "name": "stdout",
     "output_type": "stream",
     "text": [
      "5\n"
     ]
    }
   ],
   "source": [
    "print(5)"
   ]
  },
  {
   "cell_type": "code",
   "execution_count": 6,
   "id": "2e37ce61-39b8-40d0-aabf-b275801be60d",
   "metadata": {},
   "outputs": [
    {
     "name": "stdout",
     "output_type": "stream",
     "text": [
      "2111111\n"
     ]
    }
   ],
   "source": [
    "print(2111111)"
   ]
  },
  {
   "cell_type": "code",
   "execution_count": 7,
   "id": "e66efb47-71ba-4ef6-b091-434b859ec470",
   "metadata": {},
   "outputs": [
    {
     "name": "stdout",
     "output_type": "stream",
     "text": [
      "hey\n"
     ]
    }
   ],
   "source": [
    "'''\n",
    "hello evryone\n",
    "ddd\n",
    "dees\n",
    "sss\n",
    "'''\n",
    "print(\"hey\")"
   ]
  },
  {
   "cell_type": "code",
   "execution_count": 8,
   "id": "02605718-4580-41ef-97f9-98975834ae35",
   "metadata": {},
   "outputs": [
    {
     "name": "stdout",
     "output_type": "stream",
     "text": [
      "apurbo \n",
      " 076555\n"
     ]
    }
   ],
   "source": [
    "print(\"apurbo \\n 076555\")"
   ]
  },
  {
   "cell_type": "code",
   "execution_count": 1,
   "id": "57ca3d2f-c60f-4694-97d8-97a96896e6c5",
   "metadata": {},
   "outputs": [
    {
     "name": "stdout",
     "output_type": "stream",
     "text": [
      "hello world\n"
     ]
    }
   ],
   "source": [
    "print(\"hello world\")"
   ]
  },
  {
   "cell_type": "markdown",
   "id": "06384c9e-4fce-42c2-8dce-5516dd98ffff",
   "metadata": {},
   "source": [
    "#Python Tools in this course\n",
    "1. try jupyter\n",
    "2. Anaconda --> jyputer notebook\n",
    "3. google colab"
   ]
  },
  {
   "cell_type": "markdown",
   "id": "b08a7cbf-21a6-45cb-97e4-d0a51f0d30c9",
   "metadata": {},
   "source": [
    "# Python programming Language\n",
    "1. data types and variables\n",
    "   > int\n",
    "   \n",
    "   > float\n",
    "   \n",
    "   > bool\n",
    "   \n",
    "   > string\n",
    "2. ADT\n",
    "   > List\n",
    "   \n",
    "   > Tuple\n",
    "   \n",
    "   > Set\n",
    "   \n",
    "   > Dictionary\n",
    "3. Operator and expression\n",
    "   > Arithmetic Operator: +, -, *, /, //, **, %\n",
    "   \n",
    "   > Relational Operator: >, >=, <, <=, ==, !=\n",
    "\n",
    "   > Logical Operator: &(and), |(or)\n",
    "4. conditional statement\n",
    "   > if\n",
    "\n",
    "   > if else\n",
    "\n",
    "   > if elif else\n",
    "5. iteration\n",
    "6. function and list\n",
    "7. library numpy, panda, matplotlib\n",
    "8. oop"
   ]
  },
  {
   "cell_type": "code",
   "execution_count": 2,
   "id": "9191a960-f761-465b-8c01-d7260f51a024",
   "metadata": {},
   "outputs": [
    {
     "name": "stdout",
     "output_type": "stream",
     "text": [
      "10\n",
      "<class 'int'>\n"
     ]
    }
   ],
   "source": [
    "a=10\n",
    "print(a)\n",
    "print(type(a))"
   ]
  },
  {
   "cell_type": "code",
   "execution_count": null,
   "id": "5638754d-cba3-4da2-9940-6251fe45e64e",
   "metadata": {},
   "outputs": [],
   "source": []
  },
  {
   "cell_type": "code",
   "execution_count": 3,
   "id": "3b04577e-f4c4-4ccb-a7c2-1b1ff52f9341",
   "metadata": {},
   "outputs": [
    {
     "name": "stdout",
     "output_type": "stream",
     "text": [
      "3.5\n",
      "<class 'float'>\n"
     ]
    }
   ],
   "source": [
    "b=3.5\n",
    "print(b)\n",
    "print(type(b))"
   ]
  },
  {
   "cell_type": "code",
   "execution_count": 4,
   "id": "2e7e5e10-da46-420a-a383-78bf9c172860",
   "metadata": {},
   "outputs": [
    {
     "name": "stdout",
     "output_type": "stream",
     "text": [
      "False\n",
      "<class 'bool'>\n"
     ]
    }
   ],
   "source": [
    "c=False\n",
    "print(c)\n",
    "print(type(c))"
   ]
  },
  {
   "cell_type": "code",
   "execution_count": 5,
   "id": "5be5067c-733d-4960-ab47-c98d46825d10",
   "metadata": {},
   "outputs": [
    {
     "name": "stdout",
     "output_type": "stream",
     "text": [
      "A\n",
      "<class 'str'>\n"
     ]
    }
   ],
   "source": [
    "c=\"A\"\n",
    "print(c)\n",
    "print(type(c))"
   ]
  },
  {
   "cell_type": "code",
   "execution_count": 6,
   "id": "fe17d7bc-bd02-45eb-93d0-d92ef40111ba",
   "metadata": {},
   "outputs": [
    {
     "name": "stdout",
     "output_type": "stream",
     "text": [
      "A\n",
      "<class 'str'>\n"
     ]
    }
   ],
   "source": [
    "c='A'\n",
    "print(c)\n",
    "print(type(c))"
   ]
  },
  {
   "cell_type": "code",
   "execution_count": 7,
   "id": "8fe8b5e2-4b6d-47ff-95b0-f1eb7d503a52",
   "metadata": {},
   "outputs": [
    {
     "name": "stdout",
     "output_type": "stream",
     "text": [
      "v\n"
     ]
    }
   ],
   "source": [
    "s1=\"I love python\\n\"\n",
    "print(s1[4])"
   ]
  },
  {
   "cell_type": "code",
   "execution_count": 9,
   "id": "fe68b74f-eab6-483f-91ca-548d2f84cfdb",
   "metadata": {},
   "outputs": [
    {
     "name": "stdout",
     "output_type": "stream",
     "text": [
      "love\n"
     ]
    }
   ],
   "source": [
    "s2=\"I love Bangladesh\"\n",
    "print(s2[2:6])"
   ]
  },
  {
   "cell_type": "code",
   "execution_count": 10,
   "id": "72ed7f8a-947a-4955-b5db-b701047c4b4a",
   "metadata": {},
   "outputs": [
    {
     "name": "stdout",
     "output_type": "stream",
     "text": [
      "7\n"
     ]
    }
   ],
   "source": [
    "s1=\"Richard\"\n",
    "print(len(s1))"
   ]
  },
  {
   "cell_type": "code",
   "execution_count": 11,
   "id": "6cbe5b06-b6f8-4f97-a9ec-49e914ea434d",
   "metadata": {},
   "outputs": [
    {
     "name": "stdout",
     "output_type": "stream",
     "text": [
      "120\n",
      "80\n",
      "5.0\n",
      "5\n",
      "0\n",
      "10000000000000000000000000000000000000000\n"
     ]
    }
   ],
   "source": [
    "a=100\n",
    "b=20\n",
    "print(a+b)\n",
    "print(a-b)\n",
    "print(a/b) #floating point division\n",
    "print(a//b) #integer point division\n",
    "print(a%b)\n",
    "print(a**b)"
   ]
  },
  {
   "cell_type": "code",
   "execution_count": 12,
   "id": "59d54e58-de7c-45fb-9e7a-ee4f23f4fe65",
   "metadata": {},
   "outputs": [
    {
     "name": "stdout",
     "output_type": "stream",
     "text": [
      "False\n",
      "False\n",
      "True\n",
      "True\n",
      "False\n",
      "True\n"
     ]
    }
   ],
   "source": [
    "a=10\n",
    "b=20\n",
    "print(a>b)\n",
    "print(a>=b)\n",
    "print(a<b)\n",
    "print(a<=b)\n",
    "print(a==b)\n",
    "print(a!=b)"
   ]
  },
  {
   "cell_type": "code",
   "execution_count": 13,
   "id": "11a080ff-738a-42ea-90d8-8aa8c8f5c258",
   "metadata": {},
   "outputs": [
    {
     "name": "stdout",
     "output_type": "stream",
     "text": [
      "False\n"
     ]
    }
   ],
   "source": [
    "a=10\n",
    "b=20\n",
    "c=2\n",
    "print((a>b) & (a>c))"
   ]
  },
  {
   "cell_type": "code",
   "execution_count": null,
   "id": "b26c5c22-41f7-4f41-bbe6-2bba7520f33b",
   "metadata": {},
   "outputs": [],
   "source": []
  }
 ],
 "metadata": {
  "kernelspec": {
   "display_name": "Python [conda env:base] *",
   "language": "python",
   "name": "conda-base-py"
  },
  "language_info": {
   "codemirror_mode": {
    "name": "ipython",
    "version": 3
   },
   "file_extension": ".py",
   "mimetype": "text/x-python",
   "name": "python",
   "nbconvert_exporter": "python",
   "pygments_lexer": "ipython3",
   "version": "3.13.5"
  }
 },
 "nbformat": 4,
 "nbformat_minor": 5
}
