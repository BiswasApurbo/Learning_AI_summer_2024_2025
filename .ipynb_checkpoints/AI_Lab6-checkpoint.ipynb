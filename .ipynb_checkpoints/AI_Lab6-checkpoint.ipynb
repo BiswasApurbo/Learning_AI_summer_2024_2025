{
 "cells": [
  {
   "cell_type": "markdown",
   "id": "c13a19b4-98d2-49a5-bff8-6b658f5d884a",
   "metadata": {},
   "source": []
  },
  {
   "cell_type": "code",
   "execution_count": 16,
   "id": "c2722434-7efc-473f-a8ed-924e40cf6857",
   "metadata": {},
   "outputs": [
    {
     "name": "stdout",
     "output_type": "stream",
     "text": [
      "6 9\n",
      "[0, 1, 1, 0, 0, 0]\n",
      "[0, 0, 1, 1, 0, 0]\n",
      "[0, 0, 0, 1, 0, 0]\n",
      "[0, 0, 0, 0, 1, 0]\n",
      "[1, 1, 0, 0, 0, 1]\n",
      "[0, 0, 0, 0, 0, 0]\n",
      "0 2 3 4 5 1 "
     ]
    }
   ],
   "source": [
    "def createMatrix(n):\n",
    "    g=[]\n",
    "    for i in range(n):\n",
    "        r=[]\n",
    "        for i in range(n):\n",
    "            r.append(0)\n",
    "        g.append(r)\n",
    "    return g\n",
    "\n",
    "def printGraph(G):\n",
    "    for r in G:\n",
    "        print(r)\n",
    "\n",
    "f = open(\"g.txt\",\"r\")\n",
    "vertex_edges=f.readline()\n",
    "vertex_edges_list=vertex_edges.split()\n",
    "number_of_vertex=int(vertex_edges_list[0])\n",
    "number_of_edges=int(vertex_edges_list[1])\n",
    "print(number_of_vertex,number_of_edges)\n",
    "G=createMatrix(number_of_vertex)\n",
    "\n",
    "for i in range(number_of_edges):\n",
    "    edges=f.readline()\n",
    "    edges_list=edges.split()\n",
    "    u=int(edges_list[0])\n",
    "    v=int(edges_list[1])\n",
    "    G[u][v]=1\n",
    "\n",
    "printGraph(G)\n",
    "\n",
    "import queue\n",
    "def dfs(G,s):\n",
    "    stack=queue.LifoQueue()\n",
    "    stack.put(s)\n",
    "    explore_set=set()\n",
    "    while not stack.empty():\n",
    "        n=stack.get()\n",
    "        print(n, end=\" \")\n",
    "        explore_set.add(n)\n",
    "        for i in range(len(G[n])):\n",
    "            if G[n][i]==1 and i not in explore_set:\n",
    "                explore_set.add(i)\n",
    "                stack.put(i)\n",
    "\n",
    "dfs(G,0)\n"
   ]
  },
  {
   "cell_type": "code",
   "execution_count": 2,
   "id": "262f2ce9-7ae3-480d-ae49-aa7b0e5825f1",
   "metadata": {},
   "outputs": [
    {
     "name": "stdout",
     "output_type": "stream",
     "text": [
      "6 9\n",
      "0: [1, 2, 4]\n",
      "1: [0, 2, 3, 4]\n",
      "2: [0, 1, 3]\n",
      "3: [1, 2, 4]\n",
      "4: [3, 0, 1, 5]\n",
      "5: [4]\n"
     ]
    }
   ],
   "source": [
    "def createList(n):\n",
    "    d = {}\n",
    "    for i in range(n):\n",
    "        d[i] = []\n",
    "    return d\n",
    " \n",
    "def printGraph(G):\n",
    "    for i in G:\n",
    "        print(f\"{i}: {G[i]}\")\n",
    " \n",
    "f = open(\"g.txt\", \"r\")\n",
    "vertex_edges = f.readline()\n",
    "vertex_edges_list = vertex_edges.split()\n",
    "number_of_vertex = int(vertex_edges_list[0])\n",
    "number_of_edges = int(vertex_edges_list[1])\n",
    "print(number_of_vertex, number_of_edges)\n",
    " \n",
    "G = createList(number_of_vertex)\n",
    " \n",
    "for i in range(number_of_edges):\n",
    "    edges = f.readline().strip().split()\n",
    "    u = int(edges[0])\n",
    "    v = int(edges[1])\n",
    "    G[u].append(v)\n",
    "    G[v].append(u)\n",
    " \n",
    "printGraph(G)"
   ]
  },
  {
   "cell_type": "code",
   "execution_count": 11,
   "id": "2c1b7302-6547-47ef-9f04-213d88408f33",
   "metadata": {},
   "outputs": [
    {
     "name": "stdout",
     "output_type": "stream",
     "text": [
      "10\n",
      "20\n",
      "30\n"
     ]
    }
   ],
   "source": [
    "import queue\n",
    "#queue\n",
    "q=queue.Queue()\n",
    "q.put(10)\n",
    "q.put(20)\n",
    "q.put(30)\n",
    "\n",
    "\n",
    "while not q.empty():\n",
    "    print(q.get())"
   ]
  },
  {
   "cell_type": "code",
   "execution_count": 12,
   "id": "4be460cc-17c1-4277-8a65-89f9bd3b9054",
   "metadata": {},
   "outputs": [
    {
     "name": "stdout",
     "output_type": "stream",
     "text": [
      "30 20 10 "
     ]
    }
   ],
   "source": [
    "import queue\n",
    "#stack\n",
    "s=queue.LifoQueue()\n",
    "s.put(10)\n",
    "s.put(20)\n",
    "s.put(30)\n",
    "\n",
    "\n",
    "while not s.empty():\n",
    "    print(s.get(),end=\" \")"
   ]
  },
  {
   "cell_type": "code",
   "execution_count": 19,
   "id": "be2501e7-7f0a-46a7-a03b-3a7df81bd1d0",
   "metadata": {},
   "outputs": [
    {
     "name": "stdout",
     "output_type": "stream",
     "text": [
      "6 9\n",
      "[0, 1, 1, 0, 0, 0]\n",
      "[0, 0, 1, 1, 0, 0]\n",
      "[0, 0, 0, 1, 0, 0]\n",
      "[0, 0, 0, 0, 1, 0]\n",
      "[1, 1, 0, 0, 0, 1]\n",
      "[0, 0, 0, 0, 0, 0]\n",
      "0 1 2 3 4 5 "
     ]
    }
   ],
   "source": [
    "def createMatrix(n):\n",
    "    g=[]\n",
    "    for i in range(n):\n",
    "        r=[]\n",
    "        for i in range(n):\n",
    "            r.append(0)\n",
    "        g.append(r)\n",
    "    return g\n",
    "\n",
    "def printGraph(G):\n",
    "    for r in G:\n",
    "        print(r)\n",
    "\n",
    "f = open(\"g.txt\",\"r\")\n",
    "vertex_edges=f.readline()\n",
    "vertex_edges_list=vertex_edges.split()\n",
    "number_of_vertex=int(vertex_edges_list[0])\n",
    "number_of_edges=int(vertex_edges_list[1])\n",
    "print(number_of_vertex,number_of_edges)\n",
    "G=createMatrix(number_of_vertex)\n",
    "\n",
    "for i in range(number_of_edges):\n",
    "    edges=f.readline()\n",
    "    edges_list=edges.split()\n",
    "    u=int(edges_list[0])\n",
    "    v=int(edges_list[1])\n",
    "    G[u][v]=1\n",
    "\n",
    "printGraph(G)\n",
    "\n",
    "import queue\n",
    "def bfs(G,s):\n",
    "    stack=queue.Queue()\n",
    "    stack.put(s)\n",
    "    explore_set=set()\n",
    "    while not stack.empty():\n",
    "        n=stack.get()\n",
    "        print(n, end=\" \")\n",
    "        explore_set.add(n)\n",
    "        for i in range(len(G[n])):\n",
    "            if G[n][i]==1 and i not in explore_set:\n",
    "                explore_set.add(i)\n",
    "                stack.put(i)\n",
    "\n",
    "bfs(G,0)\n"
   ]
  },
  {
   "cell_type": "code",
   "execution_count": null,
   "id": "14a9dc60-676a-47ab-8321-b0a1379f2679",
   "metadata": {},
   "outputs": [],
   "source": []
  }
 ],
 "metadata": {
  "kernelspec": {
   "display_name": "Python [conda env:base] *",
   "language": "python",
   "name": "conda-base-py"
  },
  "language_info": {
   "codemirror_mode": {
    "name": "ipython",
    "version": 3
   },
   "file_extension": ".py",
   "mimetype": "text/x-python",
   "name": "python",
   "nbconvert_exporter": "python",
   "pygments_lexer": "ipython3",
   "version": "3.13.5"
  }
 },
 "nbformat": 4,
 "nbformat_minor": 5
}
