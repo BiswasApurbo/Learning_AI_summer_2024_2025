{
 "cells": [
  {
   "cell_type": "code",
   "execution_count": 55,
   "id": "a2c58d86-13b9-400e-b803-63cdd8ecb368",
   "metadata": {},
   "outputs": [
    {
     "name": "stdout",
     "output_type": "stream",
     "text": [
      "6 9\n",
      "[0, 1, 1, 0, 0, 0]\n",
      "[0, 0, 1, 1, 0, 0]\n",
      "[0, 0, 0, 1, 0, 0]\n",
      "[0, 0, 0, 0, 1, 0]\n",
      "[1, 1, 0, 0, 0, 1]\n",
      "[0, 0, 0, 0, 0, 0]\n"
     ]
    }
   ],
   "source": [
    "def createMatrix(n):\n",
    "    g=[]\n",
    "    for i in range(n):\n",
    "        r=[]\n",
    "        for i in range(n):\n",
    "            r.append(0)\n",
    "        g.append(r)\n",
    "    return g\n",
    "def printGraph(G):\n",
    "    for r in G:\n",
    "        print(r)\n",
    "f = open(\"g.txt\",\"r\")\n",
    "vertex_edges=f.readline()\n",
    "vertex_edges_list=vertex_edges.split()\n",
    "number_of_vertex=int(vertex_edges_list[0])\n",
    "number_of_edges=int(vertex_edges_list[1])\n",
    "print(number_of_vertex,number_of_edges)\n",
    "G=createMatrix(number_of_vertex)\n",
    "for i in range(number_of_edges):\n",
    "    edges=f.readline()\n",
    "    edges_list=edges.split()\n",
    "    u=int(edges_list[0])\n",
    "    v=int(edges_list[1])\n",
    "    G[u][v]=1\n",
    "printGraph(G)"
   ]
  },
  {
   "cell_type": "code",
   "execution_count": 64,
   "id": "a247bcc3-809b-430b-a9a1-80192c003e62",
   "metadata": {},
   "outputs": [
    {
     "name": "stdout",
     "output_type": "stream",
     "text": [
      "5 5\n",
      "[0, 1, 1, 0, 0]\n",
      "[1, 0, 1, 0, 0]\n",
      "[1, 1, 0, 1, 1]\n",
      "[0, 0, 1, 0, 0]\n",
      "[0, 0, 1, 0, 0]\n",
      "2\n",
      "2\n",
      "4\n",
      "1\n",
      "1\n"
     ]
    }
   ],
   "source": [
    "def createMatrix(n):\n",
    "    g = []\n",
    "    for i in range(n):\n",
    "        r = []\n",
    "        for i in range(n):\n",
    "            r.append(0)\n",
    "        g.append(r)\n",
    "    return g\n",
    "\n",
    "def printGraph(G):\n",
    "    for r in G:\n",
    "        print(r)\n",
    "\n",
    "f = open(\"f.txt\", \"r\")\n",
    "vertex_edges = f.readline()\n",
    "vertex_edges_list = vertex_edges.split()\n",
    "number_of_vertex = int(vertex_edges_list[0])\n",
    "number_of_edges = int(vertex_edges_list[1])\n",
    "print(number_of_vertex, number_of_edges)\n",
    "G = createMatrix(number_of_vertex)\n",
    "for i in range(number_of_edges):\n",
    "    edges = f.readline()\n",
    "    edges_list = edges.split()\n",
    "    u = int(edges_list[0])\n",
    "    v = int(edges_list[1])\n",
    "    G[u][v] = 1\n",
    "    G[v][u] = 1\n",
    "printGraph(G)\n",
    "def findDegree(node):\n",
    "    count = 0\n",
    "    for value in G[node]:\n",
    "        if value == 1:\n",
    "            count += 1\n",
    "    return count\n",
    "print(findDegree(0))\n",
    "print(findDegree(1))\n",
    "print(findDegree(2))\n",
    "print(findDegree(3))\n",
    "print(findDegree(4))"
   ]
  },
  {
   "cell_type": "code",
   "execution_count": 84,
   "id": "872430ad-5864-47c5-b431-355edaa55962",
   "metadata": {},
   "outputs": [
    {
     "name": "stdout",
     "output_type": "stream",
     "text": [
      "5 5\n",
      "[0, 1, 1, 0, 0]\n",
      "[1, 0, 1, 0, 0]\n",
      "[1, 1, 0, 1, 1]\n",
      "[0, 0, 1, 0, 0]\n",
      "[0, 0, 1, 0, 0]\n",
      "2\n",
      "2\n",
      "4\n",
      "1\n",
      "1\n",
      "{0: 2, 1: 2, 2: 4, 3: 1, 4: 1}\n"
     ]
    }
   ],
   "source": [
    "def createMatrix(n):\n",
    "    g = []\n",
    "    for i in range(n):\n",
    "        r = []\n",
    "        for i in range(n):\n",
    "            r.append(0)\n",
    "        g.append(r)\n",
    "    return g\n",
    "\n",
    "def printGraph(G):\n",
    "    for r in G:\n",
    "        print(r)\n",
    "\n",
    "f = open(\"f.txt\", \"r\")\n",
    "vertex_edges = f.readline()\n",
    "vertex_edges_list = vertex_edges.split()\n",
    "number_of_vertex = int(vertex_edges_list[0])\n",
    "number_of_edges = int(vertex_edges_list[1])\n",
    "print(number_of_vertex, number_of_edges)\n",
    "G = createMatrix(number_of_vertex)\n",
    "for i in range(number_of_edges):\n",
    "    edges = f.readline()\n",
    "    edges_list = edges.split()\n",
    "    u = int(edges_list[0])\n",
    "    v = int(edges_list[1])\n",
    "    G[u][v] = 1\n",
    "    G[v][u] = 1\n",
    "printGraph(G)\n",
    "\n",
    "\n",
    "def findDegree(node):\n",
    "    count=0\n",
    "    for value in G[node]:\n",
    "        if value==1:\n",
    "            count+=1\n",
    "    return count\n",
    "    \n",
    "def findDegreeForAll(G):\n",
    "    d = {}\n",
    "    for i in range(len(G)):\n",
    "        count = 0\n",
    "        for value in G[i]:\n",
    "            if value == 1:\n",
    "                count += 1\n",
    "        d[i] = count\n",
    "    return d\n",
    "\n",
    "findDegreeForAll(G)\n",
    "for i in range(5):\n",
    "    print(findDegree(i))\n",
    "\n",
    "    \n",
    "degree_dict = findDegreeForAll(G)\n",
    "print(degree_dict)\n",
    "\n",
    "    "
   ]
  },
  {
   "cell_type": "code",
   "execution_count": null,
   "id": "8364173d-5e41-4fff-9e02-858172214dfe",
   "metadata": {},
   "outputs": [],
   "source": []
  },
  {
   "cell_type": "code",
   "execution_count": null,
   "id": "a2a86f81-cade-4357-86bb-4662855d3cf1",
   "metadata": {},
   "outputs": [],
   "source": []
  }
 ],
 "metadata": {
  "kernelspec": {
   "display_name": "Python [conda env:base] *",
   "language": "python",
   "name": "conda-base-py"
  },
  "language_info": {
   "codemirror_mode": {
    "name": "ipython",
    "version": 3
   },
   "file_extension": ".py",
   "mimetype": "text/x-python",
   "name": "python",
   "nbconvert_exporter": "python",
   "pygments_lexer": "ipython3",
   "version": "3.13.5"
  }
 },
 "nbformat": 4,
 "nbformat_minor": 5
}
