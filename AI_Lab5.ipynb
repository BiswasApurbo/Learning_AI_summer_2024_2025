{
 "cells": [
  {
   "cell_type": "code",
   "execution_count": 3,
   "id": "425a6b12-bc06-4bb6-b264-80efbc1b0184",
   "metadata": {},
   "outputs": [
    {
     "name": "stdout",
     "output_type": "stream",
     "text": [
      "{0: [], 1: [], 2: [], 3: [], 4: [], 5: []}\n",
      "{0: [1, 2], 1: [], 2: [], 3: [], 4: [], 5: []}\n"
     ]
    }
   ],
   "source": [
    "d={}\n",
    "d[0]=[]\n",
    "d[1]=[]\n",
    "d[2]=[]\n",
    "d[3]=[]\n",
    "d[4]=[]\n",
    "d[5]=[]\n",
    "print(d)\n",
    "d[0].append(1)\n",
    "d[0].append(2)\n",
    "print(d)"
   ]
  },
  {
   "cell_type": "code",
   "execution_count": 9,
   "id": "5e65b606-3a42-4e6f-93ea-f8878ba1a1d3",
   "metadata": {},
   "outputs": [
    {
     "name": "stdout",
     "output_type": "stream",
     "text": [
      "6 9\n",
      "0: [1, 2]\n",
      "1: [2, 3]\n",
      "2: [3]\n",
      "3: [4]\n",
      "4: [0, 1, 5]\n",
      "5: []\n"
     ]
    }
   ],
   "source": [
    "def createAdjList(n):\n",
    "    g = []\n",
    "    for i in range(n):\n",
    "        g.append([])\n",
    "    return g\n",
    "\n",
    "def printGraph(G):\n",
    "    for i in range(len(G)):\n",
    "        print(f\"{i}: {G[i]}\")\n",
    "\n",
    "f = open(\"g.txt\", \"r\")\n",
    "vertex_edges = f.readline()\n",
    "vertex_edges_list = vertex_edges.split()\n",
    "number_of_vertex = int(vertex_edges_list[0])\n",
    "number_of_edges = int(vertex_edges_list[1])\n",
    "print(number_of_vertex, number_of_edges)\n",
    "\n",
    "G = createAdjList(number_of_vertex)\n",
    "\n",
    "for i in range(number_of_edges):\n",
    "    edges = f.readline().split()\n",
    "    u = int(edges[0])\n",
    "    v = int(edges[1])\n",
    "    G[u].append(v) \n",
    "\n",
    "printGraph(G)\n"
   ]
  },
  {
   "cell_type": "code",
   "execution_count": 15,
   "id": "9e583443-811b-40db-9cac-d651374b3517",
   "metadata": {},
   "outputs": [
    {
     "name": "stdout",
     "output_type": "stream",
     "text": [
      "6 9\n",
      "0: [1, 2]\n",
      "1: [2, 3]\n",
      "2: [3]\n",
      "3: [4]\n",
      "4: [0, 1, 5]\n",
      "5: []\n"
     ]
    }
   ],
   "source": [
    "def createList(n):\n",
    "    d = {}\n",
    "    for i in range(n):\n",
    "        d[i] = []\n",
    "    return d\n",
    "    \n",
    "f = open(\"g.txt\", \"r\")\n",
    "vertex_edges = f.readline()\n",
    "vertex_edges_list = vertex_edges.split()\n",
    "number_of_vertex = int(vertex_edges_list[0])\n",
    "number_of_edges = int(vertex_edges_list[1])\n",
    "print(number_of_vertex, number_of_edges)\n",
    "\n",
    "G = createList(number_of_vertex)\n",
    "\n",
    "for i in range(number_of_edges):\n",
    "    edges = f.readline().split()\n",
    "    u = int(edges[0])\n",
    "    v = int(edges[1])\n",
    "    G[u].append(v)\n",
    "\n",
    "printGraph(G)\n"
   ]
  },
  {
   "cell_type": "code",
   "execution_count": 26,
   "id": "807a3df8-af32-4bea-b475-d3aead4f02b9",
   "metadata": {},
   "outputs": [
    {
     "name": "stdout",
     "output_type": "stream",
     "text": [
      "6 9\n",
      "0: [1, 2]\n",
      "1: [2, 3]\n",
      "2: [3]\n",
      "3: [4]\n",
      "4: [0, 1, 5]\n",
      "5: []\n",
      "0: 2\n",
      "1: 2\n",
      "2: 1\n",
      "3: 1\n",
      "4: 3\n",
      "5: 0\n",
      "0: 1\n",
      "1: 2\n",
      "2: 2\n",
      "3: 2\n",
      "4: 1\n",
      "5: 1\n"
     ]
    }
   ],
   "source": [
    "def createList(n):\n",
    "    d = {}\n",
    "    for i in range(n):\n",
    "        d[i] = []\n",
    "    return d\n",
    "    \n",
    "def OutDegree(G):\n",
    "    out_deg = {}\n",
    "    for i in G:\n",
    "        out_deg[i] = len(G[i])\n",
    "    return out_deg\n",
    "\n",
    "def InDegree(G):\n",
    "    count=0\n",
    "    for i in range(len(G)):\n",
    "        if G in G[i]:\n",
    "            count+=1\n",
    "    return count      \n",
    "\n",
    "f = open(\"g.txt\", \"r\")\n",
    "vertex_edges = f.readline()\n",
    "vertex_edges_list = vertex_edges.split()\n",
    "number_of_vertex = int(vertex_edges_list[0])\n",
    "number_of_edges = int(vertex_edges_list[1])\n",
    "print(number_of_vertex, number_of_edges)\n",
    "\n",
    "G = createList(number_of_vertex)\n",
    "\n",
    "for i in range(number_of_edges):\n",
    "    edges = f.readline().split()\n",
    "    u = int(edges[0])\n",
    "    v = int(edges[1])\n",
    "    G[u].append(v)\n",
    "\n",
    "printGraph(G)\n",
    "\n",
    "out_deg = findOutDegrees(G)\n",
    "in_deg = findInDegrees(G)\n",
    "\n",
    "for node in out_deg:\n",
    "    print(f\"{node}: {out_deg[node]}\")\n",
    "\n",
    "for node in in_deg:\n",
    "    print(f\"{node}: {in_deg[node]}\")\n"
   ]
  },
  {
   "cell_type": "code",
   "execution_count": 30,
   "id": "5ff390de-d0f9-4855-8e10-06916baa98fc",
   "metadata": {},
   "outputs": [
    {
     "name": "stdout",
     "output_type": "stream",
     "text": [
      "6 9\n",
      "[0, 1, 1, 0, 0, 0]\n",
      "[0, 0, 1, 1, 0, 0]\n",
      "[0, 0, 0, 1, 0, 0]\n",
      "[0, 0, 0, 0, 1, 0]\n",
      "[1, 1, 0, 0, 0, 1]\n",
      "[0, 0, 0, 0, 0, 0]\n",
      "0 1 2\n",
      "1 2 2\n",
      "2 2 1\n",
      "3 2 1\n",
      "4 1 3\n",
      "5 1 0\n"
     ]
    }
   ],
   "source": [
    "def createMatrix(n):\n",
    "    g = []\n",
    "    for i in range(n):\n",
    "        r = []\n",
    "        for i in range(n):\n",
    "            r.append(0)\n",
    "        g.append(r)\n",
    "    return g\n",
    "    \n",
    "def inDegree(G):\n",
    "    indeg = {}\n",
    "    for j in range(len(G)):\n",
    "        count = 0\n",
    "        for i in range(len(G)):\n",
    "            count += G[i][j]\n",
    "        indeg[j] = count\n",
    "    return indeg\n",
    "\n",
    "def outDegree(G):\n",
    "    outdeg = {}\n",
    "    for i in range(len(G)):\n",
    "        count = 0\n",
    "        for val in G[i]:\n",
    "            count += val\n",
    "        outdeg[i] = count\n",
    "    return outdeg\n",
    "\n",
    "\n",
    "f = open(\"g.txt\", \"r\")\n",
    "vertex_edges = f.readline()\n",
    "vertex_edges_list = vertex_edges.split()\n",
    "number_of_vertex = int(vertex_edges_list[0])\n",
    "number_of_edges = int(vertex_edges_list[1])\n",
    "print(number_of_vertex, number_of_edges)\n",
    "\n",
    "G = createMatrix(number_of_vertex)\n",
    "\n",
    "for i in range(number_of_edges):\n",
    "    edges = f.readline()\n",
    "    edges_list = edges.split()\n",
    "    u = int(edges_list[0])\n",
    "    v = int(edges_list[1])\n",
    "    G[u][v] = 1\n",
    "\n",
    "printGraph(G)\n",
    "\n",
    "indeg = inDegree(G)\n",
    "outdeg = outDegree(G)\n",
    "\n",
    "for i in range(number_of_vertex):\n",
    "    print(i, indeg[i], outdeg[i])\n"
   ]
  },
  {
   "cell_type": "code",
   "execution_count": null,
   "id": "b31a2c95-9bcf-4177-8e32-fac113be1b73",
   "metadata": {},
   "outputs": [],
   "source": []
  }
 ],
 "metadata": {
  "kernelspec": {
   "display_name": "Python [conda env:base] *",
   "language": "python",
   "name": "conda-base-py"
  },
  "language_info": {
   "codemirror_mode": {
    "name": "ipython",
    "version": 3
   },
   "file_extension": ".py",
   "mimetype": "text/x-python",
   "name": "python",
   "nbconvert_exporter": "python",
   "pygments_lexer": "ipython3",
   "version": "3.13.5"
  }
 },
 "nbformat": 4,
 "nbformat_minor": 5
}
